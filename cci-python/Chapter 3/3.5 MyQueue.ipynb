{
 "cells": [
  {
   "cell_type": "code",
   "execution_count": 55,
   "metadata": {
    "collapsed": true
   },
   "outputs": [],
   "source": [
    "class MyQueue(object):\n",
    "    def __init__(self):\n",
    "        self.increasing = []\n",
    "        self.decreasing = []\n",
    "    \n",
    "    def enqueue(self, a):\n",
    "        if not self.increasing and self.decreasing:\n",
    "            self.transfer(self.decreasing, self.increasing)\n",
    "        self.increasing.append(a)\n",
    "        \n",
    "    def dequeue(self):\n",
    "        if not self.decreasing and not self.increasing:\n",
    "            raise Exception(\"Empty Queue\")\n",
    "            \n",
    "        if not self.decreasing and self.increasing:\n",
    "            self.transfer(self.increasing, self.decreasing)\n",
    "        return self.decreasing.pop()\n",
    "    \n",
    "    def transfer(self, src, dst):\n",
    "        while src:\n",
    "            dst.append(src.pop())\n",
    "    "
   ]
  },
  {
   "cell_type": "code",
   "execution_count": 56,
   "metadata": {
    "collapsed": true
   },
   "outputs": [],
   "source": [
    "q = MyQueue()"
   ]
  },
  {
   "cell_type": "code",
   "execution_count": 57,
   "metadata": {
    "collapsed": false
   },
   "outputs": [],
   "source": [
    "q.enqueue(0)\n",
    "q.enqueue(1)\n",
    "assert q.dequeue() == 0\n",
    "assert q.dequeue() == 1"
   ]
  },
  {
   "cell_type": "code",
   "execution_count": 58,
   "metadata": {
    "collapsed": true
   },
   "outputs": [],
   "source": [
    "q.enqueue(2)\n",
    "q.enqueue(1)\n",
    "q.enqueue(3)\n",
    "q.enqueue(4)\n",
    "assert q.dequeue() == 2\n",
    "assert q.dequeue() == 1"
   ]
  }
 ],
 "metadata": {
  "kernelspec": {
   "display_name": "Python 2",
   "language": "python",
   "name": "python2"
  },
  "language_info": {
   "codemirror_mode": {
    "name": "ipython",
    "version": 2
   },
   "file_extension": ".py",
   "mimetype": "text/x-python",
   "name": "python",
   "nbconvert_exporter": "python",
   "pygments_lexer": "ipython2",
   "version": "2.7.9"
  }
 },
 "nbformat": 4,
 "nbformat_minor": 0
}
