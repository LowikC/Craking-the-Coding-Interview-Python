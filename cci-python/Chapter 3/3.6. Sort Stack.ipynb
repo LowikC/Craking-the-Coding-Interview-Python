{
 "cells": [
  {
   "cell_type": "code",
   "execution_count": 29,
   "metadata": {
    "collapsed": true
   },
   "outputs": [],
   "source": [
    "class StackSort(object):\n",
    "    def __init__(self):\n",
    "        self.buffer = []\n",
    "        \n",
    "    def sort(self, s):\n",
    "        self.stack = s\n",
    "        self.buffer = []\n",
    "        \n",
    "        while self.stack:\n",
    "            current = self.stack.pop()\n",
    "            self.insert(current)\n",
    "        return self.buffer\n",
    "            \n",
    "    def insert(self, current):\n",
    "        while self.buffer and current < self.buffer[-1]:\n",
    "            self.stack.append(self.buffer.pop())\n",
    "        self.buffer.append(current)"
   ]
  },
  {
   "cell_type": "code",
   "execution_count": 30,
   "metadata": {
    "collapsed": true
   },
   "outputs": [],
   "source": [
    "sorter = StackSort()"
   ]
  },
  {
   "cell_type": "code",
   "execution_count": 31,
   "metadata": {
    "collapsed": true
   },
   "outputs": [],
   "source": [
    "l = [3, 6, 1, 2]"
   ]
  },
  {
   "cell_type": "code",
   "execution_count": 32,
   "metadata": {
    "collapsed": false
   },
   "outputs": [
    {
     "data": {
      "text/plain": [
       "[1, 2, 3, 6]"
      ]
     },
     "execution_count": 32,
     "metadata": {},
     "output_type": "execute_result"
    }
   ],
   "source": [
    "sorter.sort(l)"
   ]
  },
  {
   "cell_type": "code",
   "execution_count": null,
   "metadata": {
    "collapsed": true
   },
   "outputs": [],
   "source": []
  }
 ],
 "metadata": {
  "kernelspec": {
   "display_name": "Python 2",
   "language": "python",
   "name": "python2"
  },
  "language_info": {
   "codemirror_mode": {
    "name": "ipython",
    "version": 2
   },
   "file_extension": ".py",
   "mimetype": "text/x-python",
   "name": "python",
   "nbconvert_exporter": "python",
   "pygments_lexer": "ipython2",
   "version": "2.7.9"
  }
 },
 "nbformat": 4,
 "nbformat_minor": 0
}
