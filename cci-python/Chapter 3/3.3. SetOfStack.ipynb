{
 "cells": [
  {
   "cell_type": "code",
   "execution_count": 75,
   "metadata": {
    "collapsed": false
   },
   "outputs": [],
   "source": [
    "class SetOfStack(object):\n",
    "    def __init__(self, threshold):\n",
    "        self.max_size = threshold\n",
    "        self._size = 0\n",
    "        self.stacks = []\n",
    "\n",
    "    def push(self, a):\n",
    "        if not self.stacks or len(self.stacks[-1]) == self.max_size:\n",
    "            self.stacks.append([])\n",
    "        self.stacks[-1].append(a)\n",
    "        self._size += 1\n",
    "\n",
    "    def pop(self):\n",
    "        if not self.stacks or not self.stacks[-1]:\n",
    "            raise Exception(\"empty stack\")\n",
    "\n",
    "        a = self.stacks[-1].pop()\n",
    "        if not self.stacks[-1]:\n",
    "            self.stacks.pop()\n",
    "        self._size -= 1\n",
    "        return a\n",
    "    \n",
    "    def size(self):\n",
    "        return self._size"
   ]
  },
  {
   "cell_type": "code",
   "execution_count": 76,
   "metadata": {
    "collapsed": false
   },
   "outputs": [],
   "source": [
    "s = SetOfStack(4)\n",
    "s.push(1)\n",
    "assert s.size() == 1\n",
    "assert s.pop() == 1"
   ]
  },
  {
   "cell_type": "code",
   "execution_count": 77,
   "metadata": {
    "collapsed": true
   },
   "outputs": [],
   "source": [
    "s.push(0)\n",
    "assert s.pop() == 0"
   ]
  },
  {
   "cell_type": "code",
   "execution_count": 78,
   "metadata": {
    "collapsed": false
   },
   "outputs": [],
   "source": [
    "s.push(3)\n",
    "s.push(4)\n",
    "s.push(5)\n",
    "s.push(1)\n",
    "assert len(s.stacks) == 1"
   ]
  },
  {
   "cell_type": "code",
   "execution_count": 79,
   "metadata": {
    "collapsed": true
   },
   "outputs": [],
   "source": [
    "s.push(5)\n",
    "assert len(s.stacks) == 2"
   ]
  },
  {
   "cell_type": "code",
   "execution_count": 80,
   "metadata": {
    "collapsed": false
   },
   "outputs": [],
   "source": [
    "assert s.pop() == 5\n",
    "assert len(s.stacks) == 1\n",
    "assert s.pop() == 1"
   ]
  }
 ],
 "metadata": {
  "kernelspec": {
   "display_name": "Python 2",
   "language": "python",
   "name": "python2"
  },
  "language_info": {
   "codemirror_mode": {
    "name": "ipython",
    "version": 2
   },
   "file_extension": ".py",
   "mimetype": "text/x-python",
   "name": "python",
   "nbconvert_exporter": "python",
   "pygments_lexer": "ipython2",
   "version": "2.7.9"
  }
 },
 "nbformat": 4,
 "nbformat_minor": 0
}
