{
 "cells": [
  {
   "cell_type": "code",
   "execution_count": 28,
   "metadata": {
    "collapsed": true
   },
   "outputs": [],
   "source": [
    "class Node(object):\n",
    "    def __init__(self, value=None, next_=None):\n",
    "        self.value = value\n",
    "        self.next = next_\n",
    "        \n",
    "    def __repr__(self):\n",
    "        current = self\n",
    "        str_ = []\n",
    "        while current is not None:\n",
    "            str_.append(str(current.value) + ' -> ' )\n",
    "            current = current.next\n",
    "        str_.append('/')\n",
    "        return ''.join(str_)"
   ]
  },
  {
   "cell_type": "code",
   "execution_count": 86,
   "metadata": {
    "collapsed": false
   },
   "outputs": [],
   "source": [
    "def even_odd(node):\n",
    "    if node is None : return node\n",
    "    if node.next is None: return node\n",
    "\n",
    "    even_last = node\n",
    "    odd = node.next\n",
    "    odd_last = node.next\n",
    "\n",
    "    current = node.next.next\n",
    "    is_even = True\n",
    "\n",
    "    while current is not None:\n",
    "        if is_even:\n",
    "            even_last.next = current\n",
    "            even_last = even_last.next\n",
    "        else:\n",
    "            odd_last.next = current\n",
    "            odd_last = odd_last.next\n",
    "        is_even = not is_even \n",
    "        current = current.next\n",
    "\n",
    "    even_last.next = odd\n",
    "    odd_last.next = None\n",
    "    return node"
   ]
  },
  {
   "cell_type": "code",
   "execution_count": 87,
   "metadata": {
    "collapsed": true
   },
   "outputs": [],
   "source": [
    "L = Node(0)\n",
    "L.next = Node(1)\n",
    "L.next.next=Node(2)\n",
    "L.next.next.next=Node(3)\n",
    "L.next.next.next.next=Node(4)"
   ]
  },
  {
   "cell_type": "code",
   "execution_count": 88,
   "metadata": {
    "collapsed": false
   },
   "outputs": [
    {
     "data": {
      "text/plain": [
       "1 -> 2 -> 3 -> 4 -> /"
      ]
     },
     "execution_count": 88,
     "metadata": {},
     "output_type": "execute_result"
    }
   ],
   "source": [
    "L.next"
   ]
  },
  {
   "cell_type": "code",
   "execution_count": 89,
   "metadata": {
    "collapsed": false
   },
   "outputs": [
    {
     "data": {
      "text/plain": [
       "0 -> 2 -> 4 -> 1 -> 3 -> /"
      ]
     },
     "execution_count": 89,
     "metadata": {},
     "output_type": "execute_result"
    }
   ],
   "source": [
    "even_odd(L)"
   ]
  },
  {
   "cell_type": "code",
   "execution_count": null,
   "metadata": {
    "collapsed": true
   },
   "outputs": [],
   "source": []
  }
 ],
 "metadata": {
  "kernelspec": {
   "display_name": "Python 2",
   "language": "python",
   "name": "python2"
  },
  "language_info": {
   "codemirror_mode": {
    "name": "ipython",
    "version": 2
   },
   "file_extension": ".py",
   "mimetype": "text/x-python",
   "name": "python",
   "nbconvert_exporter": "python",
   "pygments_lexer": "ipython2",
   "version": "2.7.9"
  }
 },
 "nbformat": 4,
 "nbformat_minor": 0
}
