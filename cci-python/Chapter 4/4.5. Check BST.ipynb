{
 "metadata": {
  "name": "",
  "signature": "sha256:e9312a412bf0912ae1077364edc895c6ed1b946984272ae5917ce3f73947bfed"
 },
 "nbformat": 3,
 "nbformat_minor": 0,
 "worksheets": [
  {
   "cells": [
    {
     "cell_type": "code",
     "collapsed": false,
     "input": [
      "class TreeNode(object):\n",
      "    def __init__(self, key):\n",
      "        self.key = key\n",
      "        self.left = None\n",
      "        self.right = None"
     ],
     "language": "python",
     "metadata": {},
     "outputs": [],
     "prompt_number": 1
    },
    {
     "cell_type": "code",
     "collapsed": false,
     "input": [
      "class BST(object):\n",
      "    def __init__(self):\n",
      "        self.root = None\n",
      "\n",
      "    def is_valid(self):\n",
      "        valid, _, _ = self._is_valid_and_max_min(self.root)\n",
      "        return valid\n",
      "\n",
      "    @staticmethod\n",
      "    def _is_valid_and_max_min(root):\n",
      "        if root is None:\n",
      "            return (True, None, None)\n",
      "\n",
      "        lvalid, lmax, lmin = BST._is_valid_and_max_min(root.left)\n",
      "        rvalid, rmax, rmin = BST._is_valid_and_max_min(root.right)\n",
      "\n",
      "        if not lvalid or not rvalid:\n",
      "            return (False, None)\n",
      "\n",
      "        if lmax is not None and root.key < lmax:\n",
      "            return (False, None, None)\n",
      "\n",
      "        if rmin is not None and root.key > rmin:\n",
      "            return (False, None, None)\n",
      "\n",
      "        return (True, max(lmax, rmax, root.key), min(lmin, rmin, root.key))"
     ],
     "language": "python",
     "metadata": {},
     "outputs": [],
     "prompt_number": 15
    },
    {
     "cell_type": "code",
     "collapsed": false,
     "input": [
      "b = BST()\n",
      "b.root = TreeNode(3)\n",
      "b.root.left = TreeNode(1)\n",
      "b.root.left.right = TreeNode(4)\n",
      "b.root.right = TreeNode(5)\n",
      "b.root.right.right = TreeNode(6)\n",
      "b.root.right.right.right = TreeNode(7)"
     ],
     "language": "python",
     "metadata": {},
     "outputs": [],
     "prompt_number": 16
    },
    {
     "cell_type": "code",
     "collapsed": false,
     "input": [
      "b.is_valid()"
     ],
     "language": "python",
     "metadata": {},
     "outputs": [
      {
       "metadata": {},
       "output_type": "pyout",
       "prompt_number": 17,
       "text": [
        "False"
       ]
      }
     ],
     "prompt_number": 17
    },
    {
     "cell_type": "code",
     "collapsed": false,
     "input": [
      "b = BST()\n",
      "b.root = TreeNode(3)\n",
      "b.root.left = TreeNode(1)\n",
      "b.root.right = TreeNode(5)\n",
      "b.root.right.left = TreeNode(4)\n",
      "b.root.right.right = TreeNode(6)\n",
      "b.root.right.right.right = TreeNode(7)"
     ],
     "language": "python",
     "metadata": {},
     "outputs": [],
     "prompt_number": 18
    },
    {
     "cell_type": "code",
     "collapsed": false,
     "input": [
      "b.is_valid()"
     ],
     "language": "python",
     "metadata": {},
     "outputs": [
      {
       "metadata": {},
       "output_type": "pyout",
       "prompt_number": 19,
       "text": [
        "True"
       ]
      }
     ],
     "prompt_number": 19
    },
    {
     "cell_type": "code",
     "collapsed": false,
     "input": [],
     "language": "python",
     "metadata": {},
     "outputs": []
    }
   ],
   "metadata": {}
  }
 ]
}