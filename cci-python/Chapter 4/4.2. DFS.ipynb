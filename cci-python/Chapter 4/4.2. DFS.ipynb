{
 "cells": [
  {
   "cell_type": "code",
   "execution_count": 13,
   "metadata": {
    "collapsed": true
   },
   "outputs": [],
   "source": [
    "class Graph(object):\n",
    "    def __init__(self, V):\n",
    "        self._adjacents = [[] for _ in xrange(V)]\n",
    "\n",
    "    def addEdge(self, v, w):\n",
    "        self._adjacents[v].append(w)\n",
    "\n",
    "    def V(self):\n",
    "        return len(self._adjacents)\n",
    "\n",
    "    def adjacents(self, v):\n",
    "        return self._adjacents[v]"
   ]
  },
  {
   "cell_type": "code",
   "execution_count": 32,
   "metadata": {
    "collapsed": false
   },
   "outputs": [],
   "source": [
    "class DFS(object):\n",
    "    def __init__(self, graph, v):\n",
    "        self._marked = [False for _ in xrange(graph.V())] \n",
    "        self._dfs(graph, v)\n",
    "\n",
    "    def _dfs(self, graph, v):\n",
    "        self._marked[v] = True\n",
    "        for a in graph.adjacents(v):\n",
    "            if not self._marked[a]:\n",
    "                self._dfs(graph, a)\n",
    "\n",
    "    def is_connected(self, w):\n",
    "        return self._marked[w]"
   ]
  },
  {
   "cell_type": "code",
   "execution_count": 33,
   "metadata": {
    "collapsed": false
   },
   "outputs": [],
   "source": [
    "g = Graph(6)\n",
    "g.addEdge(0, 1)\n",
    "g.addEdge(0, 2)\n",
    "g.addEdge(1, 3)\n",
    "g.addEdge(1, 4)\n",
    "g.addEdge(2, 4)\n",
    "g.addEdge(4, 1)\n",
    "g.addEdge(5, 3)"
   ]
  },
  {
   "cell_type": "code",
   "execution_count": 34,
   "metadata": {
    "collapsed": false
   },
   "outputs": [
    {
     "data": {
      "text/plain": [
       "[[1, 2], [3, 4], [4], [], [1], [3]]"
      ]
     },
     "execution_count": 34,
     "metadata": {},
     "output_type": "execute_result"
    }
   ],
   "source": [
    "g._adjacents"
   ]
  },
  {
   "cell_type": "code",
   "execution_count": 35,
   "metadata": {
    "collapsed": false
   },
   "outputs": [],
   "source": [
    "df = DFS(g, 0)"
   ]
  },
  {
   "cell_type": "code",
   "execution_count": 36,
   "metadata": {
    "collapsed": false
   },
   "outputs": [
    {
     "data": {
      "text/plain": [
       "True"
      ]
     },
     "execution_count": 36,
     "metadata": {},
     "output_type": "execute_result"
    }
   ],
   "source": [
    "df.is_connected(3)"
   ]
  },
  {
   "cell_type": "code",
   "execution_count": 37,
   "metadata": {
    "collapsed": false
   },
   "outputs": [
    {
     "data": {
      "text/plain": [
       "False"
      ]
     },
     "execution_count": 37,
     "metadata": {},
     "output_type": "execute_result"
    }
   ],
   "source": [
    "df.is_connected(5)"
   ]
  },
  {
   "cell_type": "code",
   "execution_count": null,
   "metadata": {
    "collapsed": true
   },
   "outputs": [],
   "source": []
  }
 ],
 "metadata": {
  "kernelspec": {
   "display_name": "Python 2",
   "language": "python",
   "name": "python2"
  },
  "language_info": {
   "codemirror_mode": {
    "name": "ipython",
    "version": 2
   },
   "file_extension": ".py",
   "mimetype": "text/x-python",
   "name": "python",
   "nbconvert_exporter": "python",
   "pygments_lexer": "ipython2",
   "version": "2.7.9"
  }
 },
 "nbformat": 4,
 "nbformat_minor": 0
}
