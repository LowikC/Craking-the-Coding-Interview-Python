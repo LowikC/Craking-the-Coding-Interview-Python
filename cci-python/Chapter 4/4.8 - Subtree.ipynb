{
 "cells": [
  {
   "cell_type": "code",
   "execution_count": 1,
   "metadata": {
    "collapsed": true
   },
   "outputs": [],
   "source": [
    "def is_subtree(t1, t2):\n",
    "    if t2 is None:\n",
    "        return True\n",
    "    if t1 is None:\n",
    "        return False\n",
    "\n",
    "    if(t1.key == t2.key):\n",
    "        if(is_equal(t1, t2)):\n",
    "            return True\n",
    "\n",
    "    if is_subtree(t1.left, t2):\n",
    "           return True\n",
    "    if is_subtree(t1.right, t2):\n",
    "           return True\n",
    "           \n",
    "    return False"
   ]
  },
  {
   "cell_type": "code",
   "execution_count": 19,
   "metadata": {
    "collapsed": true
   },
   "outputs": [],
   "source": [
    "def is_equal(n1, n2):\n",
    "    if n1 is None and n2 is None:\n",
    "        return True\n",
    "    if n1 is None and n2 is not None:\n",
    "        return False\n",
    "    if n2 is None and n1 is not None:\n",
    "        return False\n",
    "    \n",
    "    if n1.key != n2.key:\n",
    "        return False\n",
    "\n",
    "    return is_equal(n1.left, n2.left) and is_equal(n1.right, n2.right)"
   ]
  },
  {
   "cell_type": "code",
   "execution_count": 20,
   "metadata": {
    "collapsed": true
   },
   "outputs": [],
   "source": [
    "class Node(object):\n",
    "    def __init__(self, key, parent=None, left=None, right=None):\n",
    "        self.key = key\n",
    "        self.parent = parent\n",
    "        self.left = left\n",
    "        self.right = right\n",
    "    \n",
    "    def add_right(self, key):\n",
    "        self.right = Node(key)\n",
    "        self.right.parent = self\n",
    "        \n",
    "    def add_left(self, key):\n",
    "        self.left = Node(key)\n",
    "        self.left.parent = self"
   ]
  },
  {
   "cell_type": "markdown",
   "metadata": {},
   "source": [
    "                      5\n",
    "              3            4\n",
    "    T1=   10     7     9     0\n",
    "                                 2 "
   ]
  },
  {
   "cell_type": "code",
   "execution_count": 21,
   "metadata": {
    "collapsed": true
   },
   "outputs": [],
   "source": [
    "tree = Node(5)\n",
    "tree.add_left(3)\n",
    "tree.add_right(4)\n",
    "tree.left.add_left(10)\n",
    "tree.left.add_right(7)\n",
    "tree.right.add_left(9)\n",
    "tree.right.add_right(0)\n",
    "tree.right.right.add_right(2)"
   ]
  },
  {
   "cell_type": "code",
   "execution_count": 22,
   "metadata": {
    "collapsed": true
   },
   "outputs": [],
   "source": [
    "t2 = Node(4)\n",
    "t2.add_right(0)\n",
    "t2.add_left(9)\n",
    "t2.right.add_right(2)"
   ]
  },
  {
   "cell_type": "code",
   "execution_count": 23,
   "metadata": {
    "collapsed": true
   },
   "outputs": [],
   "source": [
    "t3 = Node(3)\n",
    "t3.add_right(7)\n",
    "t3.add_left(10)\n",
    "t3.right.add_right(1)"
   ]
  },
  {
   "cell_type": "code",
   "execution_count": 24,
   "metadata": {
    "collapsed": true
   },
   "outputs": [],
   "source": [
    "t4 = Node(3)\n",
    "t4.add_right(6)\n",
    "t4.add_left(10)"
   ]
  },
  {
   "cell_type": "code",
   "execution_count": 25,
   "metadata": {
    "collapsed": false
   },
   "outputs": [
    {
     "data": {
      "text/plain": [
       "True"
      ]
     },
     "execution_count": 25,
     "metadata": {},
     "output_type": "execute_result"
    }
   ],
   "source": [
    "is_subtree(tree, t2)"
   ]
  },
  {
   "cell_type": "code",
   "execution_count": 26,
   "metadata": {
    "collapsed": false
   },
   "outputs": [
    {
     "data": {
      "text/plain": [
       "False"
      ]
     },
     "execution_count": 26,
     "metadata": {},
     "output_type": "execute_result"
    }
   ],
   "source": [
    "is_subtree(tree, t3)"
   ]
  },
  {
   "cell_type": "code",
   "execution_count": 27,
   "metadata": {
    "collapsed": false
   },
   "outputs": [
    {
     "data": {
      "text/plain": [
       "False"
      ]
     },
     "execution_count": 27,
     "metadata": {},
     "output_type": "execute_result"
    }
   ],
   "source": [
    "is_subtree(tree, t4)"
   ]
  }
 ],
 "metadata": {
  "kernelspec": {
   "display_name": "Python 2",
   "language": "python",
   "name": "python2"
  },
  "language_info": {
   "codemirror_mode": {
    "name": "ipython",
    "version": 2
   },
   "file_extension": ".py",
   "mimetype": "text/x-python",
   "name": "python",
   "nbconvert_exporter": "python",
   "pygments_lexer": "ipython2",
   "version": "2.7.9"
  }
 },
 "nbformat": 4,
 "nbformat_minor": 0
}
