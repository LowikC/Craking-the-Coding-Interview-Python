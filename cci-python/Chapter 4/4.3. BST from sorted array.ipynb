{
 "cells": [
  {
   "cell_type": "code",
   "execution_count": 7,
   "metadata": {
    "collapsed": false
   },
   "outputs": [],
   "source": [
    "class Node(object):\n",
    "    def __init__(self, key_):\n",
    "        self.left = None\n",
    "        self.right = None\n",
    "        self.key = key_"
   ]
  },
  {
   "cell_type": "code",
   "execution_count": 19,
   "metadata": {
    "collapsed": true
   },
   "outputs": [],
   "source": [
    "class BST(object):\n",
    "    def __init__(self):\n",
    "        self._root = None\n",
    "\n",
    "    @classmethod\n",
    "    def fromSortedArray(cls, a):\n",
    "        bst = cls()\n",
    "        bst._root = BST._create_balanced_bst(a, 0, len(a)-1)\n",
    "        return bst\n",
    "\n",
    "    @staticmethod\n",
    "    def _create_balanced_bst(a, low, high):\n",
    "        if low > high:\n",
    "            return None\n",
    "\n",
    "        m = (high - low)/2 + low\n",
    "        key = a[m]\n",
    "\n",
    "        root = Node(key)\n",
    "        root.left = BST._create_balanced_bst(a, low, m-1)\n",
    "        root.right = BST._create_balanced_bst(a, m+1, high)\n",
    "\n",
    "        return root\n",
    "\n",
    "    def height(self):\n",
    "        return BST._height(self._root)\n",
    "\n",
    "    @staticmethod\n",
    "    def _height(node):\n",
    "        if node is None :\n",
    "            return 0\n",
    "        return max(BST._height(node.left), BST._height(node.left)) + 1\n"
   ]
  },
  {
   "cell_type": "code",
   "execution_count": 20,
   "metadata": {
    "collapsed": false
   },
   "outputs": [],
   "source": [
    "a = [0, 1, 2, 3, 4, 5, 6]\n",
    "bst = BST.fromSortedArray(a)"
   ]
  },
  {
   "cell_type": "code",
   "execution_count": 21,
   "metadata": {
    "collapsed": false
   },
   "outputs": [
    {
     "data": {
      "text/plain": [
       "3"
      ]
     },
     "execution_count": 21,
     "metadata": {},
     "output_type": "execute_result"
    }
   ],
   "source": [
    "bst.height()"
   ]
  },
  {
   "cell_type": "code",
   "execution_count": 22,
   "metadata": {
    "collapsed": true
   },
   "outputs": [],
   "source": [
    "import random"
   ]
  },
  {
   "cell_type": "code",
   "execution_count": 23,
   "metadata": {
    "collapsed": true
   },
   "outputs": [],
   "source": [
    "a = sorted([random.randint(0, 10000) for _ in xrange(1000)])"
   ]
  },
  {
   "cell_type": "code",
   "execution_count": 25,
   "metadata": {
    "collapsed": false
   },
   "outputs": [],
   "source": [
    "bst = BST.fromSortedArray(a)"
   ]
  },
  {
   "cell_type": "code",
   "execution_count": 26,
   "metadata": {
    "collapsed": false
   },
   "outputs": [
    {
     "data": {
      "text/plain": [
       "9"
      ]
     },
     "execution_count": 26,
     "metadata": {},
     "output_type": "execute_result"
    }
   ],
   "source": [
    "bst.height()"
   ]
  }
 ],
 "metadata": {
  "kernelspec": {
   "display_name": "Python 2",
   "language": "python",
   "name": "python2"
  },
  "language_info": {
   "codemirror_mode": {
    "name": "ipython",
    "version": 2
   },
   "file_extension": ".py",
   "mimetype": "text/x-python",
   "name": "python",
   "nbconvert_exporter": "python",
   "pygments_lexer": "ipython2",
   "version": "2.7.9"
  }
 },
 "nbformat": 4,
 "nbformat_minor": 0
}
