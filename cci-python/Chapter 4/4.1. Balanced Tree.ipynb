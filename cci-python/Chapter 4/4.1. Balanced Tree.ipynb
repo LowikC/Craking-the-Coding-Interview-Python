{
 "metadata": {
  "name": "",
  "signature": "sha256:46391f6dc93edd1557878cba8316bac66706f56b38f57e09e89d32e2df7feb0e"
 },
 "nbformat": 3,
 "nbformat_minor": 0,
 "worksheets": [
  {
   "cells": [
    {
     "cell_type": "code",
     "collapsed": false,
     "input": [
      "class Node(object):\n",
      "    def __init__(self):\n",
      "        self.left = None\n",
      "        self.right = None"
     ],
     "language": "python",
     "metadata": {},
     "outputs": [],
     "prompt_number": 4
    },
    {
     "cell_type": "code",
     "collapsed": false,
     "input": [
      "class Tree(object):  \n",
      "    def __init__(self):\n",
      "        self.root = None\n",
      "\n",
      "    def is_balanced(self):\n",
      "        return Tree._checkHeight(self.root) != -1\n",
      "\n",
      "    @staticmethod \n",
      "    def _checkHeight(node):\n",
      "        if node is None:\n",
      "            return 0\n",
      "\n",
      "        hl = Tree._checkHeight(node.left)\n",
      "        hr = Tree._checkHeight(node.right)\n",
      "        if hl == -1 or hr == -1 :\n",
      "            return -1\n",
      "        if abs(hl - hr) > 1:\n",
      "            return -1\n",
      "\n",
      "        return max(hl, hr) + 1"
     ],
     "language": "python",
     "metadata": {},
     "outputs": [],
     "prompt_number": 5
    },
    {
     "cell_type": "code",
     "collapsed": false,
     "input": [
      "t = Tree()\n",
      "t.root = Node()\n",
      "t.root.left = Node()\n",
      "t.root.right = Node()"
     ],
     "language": "python",
     "metadata": {},
     "outputs": [],
     "prompt_number": 6
    },
    {
     "cell_type": "code",
     "collapsed": false,
     "input": [
      "t.is_balanced()"
     ],
     "language": "python",
     "metadata": {},
     "outputs": [
      {
       "metadata": {},
       "output_type": "pyout",
       "prompt_number": 7,
       "text": [
        "True"
       ]
      }
     ],
     "prompt_number": 7
    },
    {
     "cell_type": "code",
     "collapsed": false,
     "input": [
      "t = Tree()\n",
      "t.root = Node()\n",
      "t.root.left = Node()\n",
      "t.root.right = Node()\n",
      "t.root.right.right = Node()\n",
      "t.root.right.right.right = Node()"
     ],
     "language": "python",
     "metadata": {},
     "outputs": [],
     "prompt_number": 8
    },
    {
     "cell_type": "code",
     "collapsed": false,
     "input": [
      "t.is_balanced()"
     ],
     "language": "python",
     "metadata": {},
     "outputs": [
      {
       "metadata": {},
       "output_type": "pyout",
       "prompt_number": 9,
       "text": [
        "False"
       ]
      }
     ],
     "prompt_number": 9
    },
    {
     "cell_type": "code",
     "collapsed": false,
     "input": [],
     "language": "python",
     "metadata": {},
     "outputs": []
    }
   ],
   "metadata": {}
  }
 ]
}