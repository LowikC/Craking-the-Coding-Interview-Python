{
 "cells": [
  {
   "cell_type": "code",
   "execution_count": 6,
   "metadata": {
    "collapsed": false
   },
   "outputs": [],
   "source": [
    "class Node(object):\n",
    "    def __init__(self, key, parent=None, left=None, right=None):\n",
    "        self.key = key\n",
    "        self.parent = parent\n",
    "        self.left = left\n",
    "        self.right = right\n",
    "    \n",
    "    def add_right(self, key):\n",
    "        self.right = Node(key)\n",
    "        self.right.parent = self\n",
    "        \n",
    "    def add_left(self, key):\n",
    "        self.left = Node(key)\n",
    "        self.left.parent = self"
   ]
  },
  {
   "cell_type": "code",
   "execution_count": 10,
   "metadata": {
    "collapsed": true
   },
   "outputs": [],
   "source": [
    "def depth(node):\n",
    "    if node is None:\n",
    "        return 0\n",
    "    return 1 + depth(node.parent)"
   ]
  },
  {
   "cell_type": "code",
   "execution_count": 37,
   "metadata": {
    "collapsed": false
   },
   "outputs": [],
   "source": [
    "def common_ancestor(a, b):\n",
    "    da = depth(a)\n",
    "    db = depth(b)\n",
    "\n",
    "    if da < db :\n",
    "        a, b = b, a\n",
    "        da, db = db, da\n",
    "\n",
    "    for i in xrange(da - db):\n",
    "        a = a.parent\n",
    "\n",
    "    assert depth(a) == depth(b)\n",
    "\n",
    "    while(a != b):\n",
    "        a = a.parent\n",
    "        b = b.parent\n",
    "    return a"
   ]
  },
  {
   "cell_type": "markdown",
   "metadata": {},
   "source": [
    "                5\n",
    "        3            4\n",
    "     10     7     9     0\n",
    "                           2 "
   ]
  },
  {
   "cell_type": "code",
   "execution_count": 38,
   "metadata": {
    "collapsed": true
   },
   "outputs": [],
   "source": [
    "tree = Node(5)\n",
    "tree.add_left(3)\n",
    "tree.add_right(4)\n",
    "tree.left.add_left(10)\n",
    "tree.left.add_right(7)\n",
    "tree.right.add_left(9)\n",
    "tree.right.add_right(0)\n",
    "tree.right.right.add_right(2)"
   ]
  },
  {
   "cell_type": "code",
   "execution_count": 39,
   "metadata": {
    "collapsed": false
   },
   "outputs": [
    {
     "data": {
      "text/plain": [
       "5"
      ]
     },
     "execution_count": 39,
     "metadata": {},
     "output_type": "execute_result"
    }
   ],
   "source": [
    "common_ancestor(tree, tree.right.right.right).key"
   ]
  },
  {
   "cell_type": "code",
   "execution_count": 40,
   "metadata": {
    "collapsed": false
   },
   "outputs": [
    {
     "data": {
      "text/plain": [
       "5"
      ]
     },
     "execution_count": 40,
     "metadata": {},
     "output_type": "execute_result"
    }
   ],
   "source": [
    "common_ancestor(tree.left.left, tree.right.right.right).key"
   ]
  },
  {
   "cell_type": "code",
   "execution_count": 41,
   "metadata": {
    "collapsed": false
   },
   "outputs": [
    {
     "data": {
      "text/plain": [
       "4"
      ]
     },
     "execution_count": 41,
     "metadata": {},
     "output_type": "execute_result"
    }
   ],
   "source": [
    "common_ancestor(tree.right.left, tree.right.right.right).key"
   ]
  },
  {
   "cell_type": "code",
   "execution_count": null,
   "metadata": {
    "collapsed": true
   },
   "outputs": [],
   "source": []
  }
 ],
 "metadata": {
  "kernelspec": {
   "display_name": "Python 2",
   "language": "python",
   "name": "python2"
  },
  "language_info": {
   "codemirror_mode": {
    "name": "ipython",
    "version": 2
   },
   "file_extension": ".py",
   "mimetype": "text/x-python",
   "name": "python",
   "nbconvert_exporter": "python",
   "pygments_lexer": "ipython2",
   "version": "2.7.9"
  }
 },
 "nbformat": 4,
 "nbformat_minor": 0
}
