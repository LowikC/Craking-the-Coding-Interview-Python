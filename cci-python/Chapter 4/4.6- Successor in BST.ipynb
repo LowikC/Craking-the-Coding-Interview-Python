{
 "cells": [
  {
   "cell_type": "code",
   "execution_count": 24,
   "metadata": {
    "collapsed": true
   },
   "outputs": [],
   "source": [
    "class Node(object):\n",
    "    def __init__(self, key, parent=None):\n",
    "        self.key = key\n",
    "        self.left = None\n",
    "        self.right = None\n",
    "        self.parent = parent\n",
    "    \n",
    "    def addRight(self, key):\n",
    "        self.right = Node(key, self)\n",
    "        \n",
    "    def addLeft(self, key):\n",
    "        self.left = Node(key, self)"
   ]
  },
  {
   "cell_type": "code",
   "execution_count": 37,
   "metadata": {
    "collapsed": false
   },
   "outputs": [],
   "source": [
    "def successor(node):\n",
    "    if node is None :\n",
    "        return None\n",
    "\n",
    "    if node.right is not None:\n",
    "        return _min(node.right)\n",
    "\n",
    "    search_key = node.key\n",
    "    successor = None\n",
    "    while node.parent is not None:\n",
    "        if node.parent.key >= search_key:\n",
    "            return node.parent\n",
    "        node = node.parent\n",
    "\n",
    "    return successor"
   ]
  },
  {
   "cell_type": "code",
   "execution_count": 38,
   "metadata": {
    "collapsed": true
   },
   "outputs": [],
   "source": [
    "def _min(node):\n",
    "    if node is None:\n",
    "        raise Exception()\n",
    "\n",
    "    while(node.left is not None):\n",
    "        node = node.left\n",
    "    return node"
   ]
  },
  {
   "cell_type": "markdown",
   "metadata": {},
   "source": [
    "                4\n",
    "            2       5\n",
    "         1     3       7\n",
    "                     6   9"
   ]
  },
  {
   "cell_type": "code",
   "execution_count": 49,
   "metadata": {
    "collapsed": false
   },
   "outputs": [],
   "source": [
    "t = Node(4)\n",
    "t.addLeft(2)\n",
    "t.addRight(5)\n",
    "t.left.addLeft(1)\n",
    "t.left.addRight(3)\n",
    "t.right.addRight(7)\n",
    "t.right.right.addRight(9)\n",
    "t.right.right.addLeft(6)"
   ]
  },
  {
   "cell_type": "code",
   "execution_count": 50,
   "metadata": {
    "collapsed": false
   },
   "outputs": [
    {
     "data": {
      "text/plain": [
       "5"
      ]
     },
     "execution_count": 50,
     "metadata": {},
     "output_type": "execute_result"
    }
   ],
   "source": [
    "successor(t).key"
   ]
  },
  {
   "cell_type": "code",
   "execution_count": 51,
   "metadata": {
    "collapsed": false
   },
   "outputs": [
    {
     "data": {
      "text/plain": [
       "3"
      ]
     },
     "execution_count": 51,
     "metadata": {},
     "output_type": "execute_result"
    }
   ],
   "source": [
    "successor(t.left).key"
   ]
  },
  {
   "cell_type": "code",
   "execution_count": 57,
   "metadata": {
    "collapsed": false
   },
   "outputs": [
    {
     "data": {
      "text/plain": [
       "4"
      ]
     },
     "execution_count": 57,
     "metadata": {},
     "output_type": "execute_result"
    }
   ],
   "source": [
    "successor(t.left.right).key"
   ]
  },
  {
   "cell_type": "code",
   "execution_count": null,
   "metadata": {
    "collapsed": true
   },
   "outputs": [],
   "source": []
  }
 ],
 "metadata": {
  "kernelspec": {
   "display_name": "Python 2",
   "language": "python",
   "name": "python2"
  },
  "language_info": {
   "codemirror_mode": {
    "name": "ipython",
    "version": 2
   },
   "file_extension": ".py",
   "mimetype": "text/x-python",
   "name": "python",
   "nbconvert_exporter": "python",
   "pygments_lexer": "ipython2",
   "version": "2.7.9"
  }
 },
 "nbformat": 4,
 "nbformat_minor": 0
}
