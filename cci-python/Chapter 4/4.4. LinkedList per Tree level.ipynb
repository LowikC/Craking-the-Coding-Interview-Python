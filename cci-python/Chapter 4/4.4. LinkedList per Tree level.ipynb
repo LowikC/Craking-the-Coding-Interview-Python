{
 "metadata": {
  "name": "",
  "signature": "sha256:aa5b7b590cb1423433fede4441efe1649aa835a0db7f6299c3050606ab5e33db"
 },
 "nbformat": 3,
 "nbformat_minor": 0,
 "worksheets": [
  {
   "cells": [
    {
     "cell_type": "code",
     "collapsed": false,
     "input": [
      "class TreeNode(object):\n",
      "    def __init__(self, key):\n",
      "        self.left = None\n",
      "        self.right = None\n",
      "        self.key = key"
     ],
     "language": "python",
     "metadata": {},
     "outputs": [],
     "prompt_number": 2
    },
    {
     "cell_type": "code",
     "collapsed": false,
     "input": [
      "class LLNode(object):\n",
      "    def __init__(self, key):\n",
      "        self.next = None\n",
      "        self.key = key"
     ],
     "language": "python",
     "metadata": {},
     "outputs": [],
     "prompt_number": 4
    },
    {
     "cell_type": "code",
     "collapsed": false,
     "input": [
      "def print_ll(root):\n",
      "    text = []\n",
      "    while(root is not None):\n",
      "        text.append(str(root.key) + '->')\n",
      "        root = root.next\n",
      "    text.append('None')\n",
      "    return ''.join(text)"
     ],
     "language": "python",
     "metadata": {},
     "outputs": [],
     "prompt_number": 31
    },
    {
     "cell_type": "code",
     "collapsed": false,
     "input": [
      "def create_ll_per_level(root): \n",
      "    lls = []\n",
      "    _create_ll_per_level(root, lls, 0)\n",
      "    return lls"
     ],
     "language": "python",
     "metadata": {},
     "outputs": [],
     "prompt_number": 15
    },
    {
     "cell_type": "code",
     "collapsed": false,
     "input": [
      "def _create_ll_per_level(root, lls, d):\n",
      "    if root is None:\n",
      "        return\n",
      "    if len(lls) <= d:\n",
      "        lls.append(LLNode(root.key))\n",
      "    else:\n",
      "        lls[d].next = LLNode(root.key)\n",
      "\n",
      "    _create_ll_per_level(root.left, lls, d+1)\n",
      "    _create_ll_per_level(root.right, lls, d+1)"
     ],
     "language": "python",
     "metadata": {},
     "outputs": [],
     "prompt_number": 22
    },
    {
     "cell_type": "code",
     "collapsed": false,
     "input": [
      "tree = TreeNode(1)"
     ],
     "language": "python",
     "metadata": {},
     "outputs": [],
     "prompt_number": 23
    },
    {
     "cell_type": "code",
     "collapsed": false,
     "input": [
      "tree.left = TreeNode(2)"
     ],
     "language": "python",
     "metadata": {},
     "outputs": [],
     "prompt_number": 24
    },
    {
     "cell_type": "code",
     "collapsed": false,
     "input": [
      "tree.right = TreeNode(3)"
     ],
     "language": "python",
     "metadata": {},
     "outputs": [],
     "prompt_number": 25
    },
    {
     "cell_type": "code",
     "collapsed": false,
     "input": [
      "tree.right.left = TreeNode(4)\n",
      "tree.right.right = TreeNode(5)\n",
      "tree.right.right.right = TreeNode(6)"
     ],
     "language": "python",
     "metadata": {},
     "outputs": [],
     "prompt_number": 26
    },
    {
     "cell_type": "code",
     "collapsed": false,
     "input": [
      "lls = create_ll_per_level(tree)"
     ],
     "language": "python",
     "metadata": {},
     "outputs": [],
     "prompt_number": 28
    },
    {
     "cell_type": "code",
     "collapsed": false,
     "input": [
      "lls[0]."
     ],
     "language": "python",
     "metadata": {},
     "outputs": [],
     "prompt_number": 30
    },
    {
     "cell_type": "code",
     "collapsed": false,
     "input": [
      "print_ll(lls[2])"
     ],
     "language": "python",
     "metadata": {},
     "outputs": [
      {
       "metadata": {},
       "output_type": "pyout",
       "prompt_number": 36,
       "text": [
        "'4->5->None'"
       ]
      }
     ],
     "prompt_number": 36
    },
    {
     "cell_type": "code",
     "collapsed": false,
     "input": [],
     "language": "python",
     "metadata": {},
     "outputs": []
    }
   ],
   "metadata": {}
  }
 ]
}