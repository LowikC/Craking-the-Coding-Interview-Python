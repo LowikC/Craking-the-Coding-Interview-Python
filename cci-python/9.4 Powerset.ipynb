{
 "cells": [
  {
   "cell_type": "code",
   "execution_count": 57,
   "metadata": {
    "collapsed": false
   },
   "outputs": [],
   "source": [
    "def get_subsets(A):\n",
    "    if not A: return [[]]\n",
    "    \n",
    "    subsets = []\n",
    "    Aprev = A[:-1]\n",
    "    subset_prev = get_subsets(Aprev)\n",
    "    for s in subset_prev:\n",
    "        subsets.append(s + [A[-1]])\n",
    "        \n",
    "    subsets += subset_prev\n",
    "    return subsets"
   ]
  },
  {
   "cell_type": "code",
   "execution_count": 66,
   "metadata": {
    "collapsed": false
   },
   "outputs": [
    {
     "data": {
      "text/plain": [
       "True"
      ]
     },
     "execution_count": 66,
     "metadata": {},
     "output_type": "execute_result"
    }
   ],
   "source": [
    "len(get_subsets([1, 2, 3, 4, 5, 6])) == 2**6"
   ]
  }
 ],
 "metadata": {
  "kernelspec": {
   "display_name": "Python 2",
   "language": "python",
   "name": "python2"
  },
  "language_info": {
   "codemirror_mode": {
    "name": "ipython",
    "version": 2
   },
   "file_extension": ".py",
   "mimetype": "text/x-python",
   "name": "python",
   "nbconvert_exporter": "python",
   "pygments_lexer": "ipython2",
   "version": "2.7.10"
  }
 },
 "nbformat": 4,
 "nbformat_minor": 0
}
