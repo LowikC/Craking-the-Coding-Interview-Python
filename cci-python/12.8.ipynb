{
 "cells": [
  {
   "cell_type": "code",
   "execution_count": 1,
   "metadata": {
    "collapsed": true
   },
   "outputs": [],
   "source": [
    "A = [1, 5, 3, 7, -1, 6]"
   ]
  },
  {
   "cell_type": "code",
   "execution_count": 6,
   "metadata": {
    "collapsed": true
   },
   "outputs": [],
   "source": [
    "def find_min_max(A):\n",
    "    min, max = A[0], A[0]\n",
    "    \n",
    "    for i in xrange(1, len(A), 2):\n",
    "        if i+1 >= len(A): \n",
    "            if A[i] > max:\n",
    "                max = A[i]\n",
    "            if A[i] < min:\n",
    "                min = A[i]\n",
    "            break;\n",
    "            \n",
    "        if A[i] > A[i+1]:\n",
    "            if A[i] > max:\n",
    "                max = A[i]\n",
    "            if A[i+1] < min:\n",
    "                min = A[i+1]\n",
    "        else:\n",
    "            if A[i+1] > max:\n",
    "                max = A[i+1]\n",
    "            if A[i] < min:\n",
    "                min = A[i]\n",
    "    \n",
    "    return min, max\n",
    "    "
   ]
  },
  {
   "cell_type": "code",
   "execution_count": 7,
   "metadata": {
    "collapsed": false
   },
   "outputs": [
    {
     "data": {
      "text/plain": [
       "(-1, 7)"
      ]
     },
     "execution_count": 7,
     "metadata": {},
     "output_type": "execute_result"
    }
   ],
   "source": [
    "find_min_max(A)"
   ]
  },
  {
   "cell_type": "markdown",
   "metadata": {},
   "source": [
    "O(1) memory\n",
    "O(3N/2) time"
   ]
  },
  {
   "cell_type": "code",
   "execution_count": null,
   "metadata": {
    "collapsed": true
   },
   "outputs": [],
   "source": []
  }
 ],
 "metadata": {
  "kernelspec": {
   "display_name": "Python 2",
   "language": "python",
   "name": "python2"
  },
  "language_info": {
   "codemirror_mode": {
    "name": "ipython",
    "version": 2
   },
   "file_extension": ".py",
   "mimetype": "text/x-python",
   "name": "python",
   "nbconvert_exporter": "python",
   "pygments_lexer": "ipython2",
   "version": "2.7.10"
  }
 },
 "nbformat": 4,
 "nbformat_minor": 0
}
