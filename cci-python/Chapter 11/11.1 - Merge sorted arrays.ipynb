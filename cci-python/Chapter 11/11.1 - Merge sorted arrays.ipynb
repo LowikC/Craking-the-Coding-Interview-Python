{
 "cells": [
  {
   "cell_type": "code",
   "execution_count": 22,
   "metadata": {
    "collapsed": false
   },
   "outputs": [],
   "source": [
    "def merge(A, sizeA, B):\n",
    "    last_a = sizeA - 1\n",
    "    last_b = len(B) - 1\n",
    "    ins = len(A)-1\n",
    "\n",
    "    while last_a >= 0 and last_b >=0 :\n",
    "        if A[last_a] > B[last_b]:\n",
    "            A[last_a], A[ins] = A[ins], A[last_a]\n",
    "            last_a -= 1\n",
    "        else:\n",
    "            A[ins] = B[last_b]\n",
    "            last_b -= 1\n",
    "        ins -= 1\n",
    "\n",
    "    if last_b >= 0:\n",
    "        for i in xrange(last_b+1):\n",
    "            A[i] = B[i]"
   ]
  },
  {
   "cell_type": "code",
   "execution_count": 23,
   "metadata": {
    "collapsed": true
   },
   "outputs": [],
   "source": [
    "A = [3, 4, 7, 9, 10, 14, 'x', 'x', 'x', 'x', 'x']\n",
    "B = [2, 4, 5, 8, 11]"
   ]
  },
  {
   "cell_type": "code",
   "execution_count": 24,
   "metadata": {
    "collapsed": false
   },
   "outputs": [],
   "source": [
    "merge(A, 6, B)"
   ]
  },
  {
   "cell_type": "code",
   "execution_count": 25,
   "metadata": {
    "collapsed": false
   },
   "outputs": [
    {
     "data": {
      "text/plain": [
       "[2, 3, 4, 4, 5, 7, 8, 9, 10, 11, 14]"
      ]
     },
     "execution_count": 25,
     "metadata": {},
     "output_type": "execute_result"
    }
   ],
   "source": [
    "A"
   ]
  }
 ],
 "metadata": {
  "kernelspec": {
   "display_name": "Python 2",
   "language": "python",
   "name": "python2"
  },
  "language_info": {
   "codemirror_mode": {
    "name": "ipython",
    "version": 2
   },
   "file_extension": ".py",
   "mimetype": "text/x-python",
   "name": "python",
   "nbconvert_exporter": "python",
   "pygments_lexer": "ipython2",
   "version": "2.7.9"
  }
 },
 "nbformat": 4,
 "nbformat_minor": 0
}
