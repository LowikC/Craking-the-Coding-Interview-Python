{
 "cells": [
  {
   "cell_type": "markdown",
   "metadata": {},
   "source": [
    "Let be A, B, C three arrays.\n",
    "Write a function to find a in A, b in B and c in C such that abs(a-b) + abs(b-c) + abs(c-a) is minimum"
   ]
  },
  {
   "cell_type": "code",
   "execution_count": 35,
   "metadata": {
    "collapsed": false
   },
   "outputs": [],
   "source": [
    "def minimize(A, B, C):\n",
    "    if not A or not B or not C:\n",
    "        return None\n",
    "    \n",
    "    A = sorted(A)\n",
    "    B = sorted(B)\n",
    "    C = sorted(C)\n",
    "    \n",
    "    a, b, c = 0, 0, 0\n",
    "    smallest_value = abs(A[a]-B[b]) + abs(B[b] - C[c]) + abs(C[c] - A[a])\n",
    "    best_tuple = (a, b, c)\n",
    "    while a < len(A) and b < len(B) and c < len(C):\n",
    "        current = abs(A[a]-B[b]) + abs(B[b] - C[c]) + abs(C[c] - A[a])\n",
    "        if current < smallest_value:\n",
    "            smallest_value = current\n",
    "            best_tuple = (a, b, c)\n",
    "        if A[a] < B[b] and A[a] < C[c]: a += 1\n",
    "        elif B[b] < A[a] and B[b] < C[c]: b += 1\n",
    "        else: c += 1\n",
    "    return best_tuple"
   ]
  },
  {
   "cell_type": "code",
   "execution_count": 36,
   "metadata": {
    "collapsed": true
   },
   "outputs": [],
   "source": [
    "A = [0, 1, 4, 6, 10]\n",
    "B = [-1, 2, 6, 11]\n",
    "C = [1.5, 23, 65]"
   ]
  },
  {
   "cell_type": "code",
   "execution_count": 37,
   "metadata": {
    "collapsed": false,
    "scrolled": true
   },
   "outputs": [
    {
     "data": {
      "text/plain": [
       "(1, 1, 0)"
      ]
     },
     "execution_count": 37,
     "metadata": {},
     "output_type": "execute_result"
    }
   ],
   "source": [
    "minimize(A, B, C)"
   ]
  },
  {
   "cell_type": "code",
   "execution_count": null,
   "metadata": {
    "collapsed": true
   },
   "outputs": [],
   "source": []
  }
 ],
 "metadata": {
  "kernelspec": {
   "display_name": "Python 2",
   "language": "python",
   "name": "python2"
  },
  "language_info": {
   "codemirror_mode": {
    "name": "ipython",
    "version": 2
   },
   "file_extension": ".py",
   "mimetype": "text/x-python",
   "name": "python",
   "nbconvert_exporter": "python",
   "pygments_lexer": "ipython2",
   "version": "2.7.9"
  }
 },
 "nbformat": 4,
 "nbformat_minor": 0
}
